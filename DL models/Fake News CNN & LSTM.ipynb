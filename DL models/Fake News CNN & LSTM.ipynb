{
  "cells": [
    {
      "cell_type": "code",
      "execution_count": null,
      "metadata": {
        "id": "bI8ppwPSqfRN"
      },
      "outputs": [],
      "source": [
        "import os\n",
        "import sys\n",
        "import numpy as np\n",
        "import keras\n",
        "from keras.preprocessing.text import Tokenizer\n",
        "from keras.utils import to_categorical\n",
        "from keras.preprocessing.sequence import pad_sequences\n",
        "from keras.layers import Activation, Conv2D, Input, Embedding, Reshape, MaxPool2D, Concatenate, Flatten, Dropout, Dense, Conv1D\n",
        "from keras.layers import MaxPool1D, LSTM\n",
        "from keras.models import Model\n",
        "from keras.callbacks import ModelCheckpoint\n",
        "from keras.optimizers import Adam"
      ]
    },
    {
      "cell_type": "code",
      "execution_count": null,
      "metadata": {
        "id": "BL3ysJTqqfRS"
      },
      "outputs": [],
      "source": [
        "import pandas as pd\n",
        "df = pd.read_csv(\"/content/data.csv\")"
      ]
    },
    {
      "cell_type": "code",
      "execution_count": null,
      "metadata": {
        "id": "zGIBzPm9qfRT"
      },
      "outputs": [],
      "source": [
        "df.dropna(subset=['Body'], inplace=True)\n",
        "df.reset_index(drop=True, inplace=True)"
      ]
    },
    {
      "cell_type": "code",
      "execution_count": null,
      "metadata": {
        "colab": {
          "base_uri": "https://localhost:8080/",
          "height": 206
        },
        "id": "T1TlZOHPqfRU",
        "outputId": "8bb34468-88c9-4d8a-d62d-7bf5023bab23"
      },
      "outputs": [
        {
          "output_type": "execute_result",
          "data": {
            "text/plain": [
              "                                                URLs  \\\n",
              "0  http://www.bbc.com/news/world-us-canada-414191...   \n",
              "1  https://www.reuters.com/article/us-filmfestiva...   \n",
              "2  https://www.nytimes.com/2017/10/09/us/politics...   \n",
              "3  https://www.reuters.com/article/us-mexico-oil-...   \n",
              "4  http://www.cnn.com/videos/cnnmoney/2017/10/08/...   \n",
              "\n",
              "                                            Headline  \\\n",
              "0         four ways bob corker skewered donald trump   \n",
              "1  linklater's war veteran comedy speaks to moder...   \n",
              "2  trump’s fight with corker jeopardizes his legi...   \n",
              "3  egypt's cheiron wins tie-up with pemex for mex...   \n",
              "4        jason aldean opens 'snl' with vegas tribute   \n",
              "\n",
              "                                                Body  Label  \n",
              "0  image copyright getty images\\non sunday mornin...      1  \n",
              "1  london (reuters) - “last flag flying”, a comed...      1  \n",
              "2  the feud broke into public view last week when...      1  \n",
              "3  mexico city (reuters) - egypt’s cheiron holdin...      1  \n",
              "4  country singer jason aldean, who was performin...      1  "
            ],
            "text/html": [
              "\n",
              "  <div id=\"df-447a419c-9f5c-4bb6-b749-9cef5bc627c9\" class=\"colab-df-container\">\n",
              "    <div>\n",
              "<style scoped>\n",
              "    .dataframe tbody tr th:only-of-type {\n",
              "        vertical-align: middle;\n",
              "    }\n",
              "\n",
              "    .dataframe tbody tr th {\n",
              "        vertical-align: top;\n",
              "    }\n",
              "\n",
              "    .dataframe thead th {\n",
              "        text-align: right;\n",
              "    }\n",
              "</style>\n",
              "<table border=\"1\" class=\"dataframe\">\n",
              "  <thead>\n",
              "    <tr style=\"text-align: right;\">\n",
              "      <th></th>\n",
              "      <th>URLs</th>\n",
              "      <th>Headline</th>\n",
              "      <th>Body</th>\n",
              "      <th>Label</th>\n",
              "    </tr>\n",
              "  </thead>\n",
              "  <tbody>\n",
              "    <tr>\n",
              "      <th>0</th>\n",
              "      <td>http://www.bbc.com/news/world-us-canada-414191...</td>\n",
              "      <td>four ways bob corker skewered donald trump</td>\n",
              "      <td>image copyright getty images\\non sunday mornin...</td>\n",
              "      <td>1</td>\n",
              "    </tr>\n",
              "    <tr>\n",
              "      <th>1</th>\n",
              "      <td>https://www.reuters.com/article/us-filmfestiva...</td>\n",
              "      <td>linklater's war veteran comedy speaks to moder...</td>\n",
              "      <td>london (reuters) - “last flag flying”, a comed...</td>\n",
              "      <td>1</td>\n",
              "    </tr>\n",
              "    <tr>\n",
              "      <th>2</th>\n",
              "      <td>https://www.nytimes.com/2017/10/09/us/politics...</td>\n",
              "      <td>trump’s fight with corker jeopardizes his legi...</td>\n",
              "      <td>the feud broke into public view last week when...</td>\n",
              "      <td>1</td>\n",
              "    </tr>\n",
              "    <tr>\n",
              "      <th>3</th>\n",
              "      <td>https://www.reuters.com/article/us-mexico-oil-...</td>\n",
              "      <td>egypt's cheiron wins tie-up with pemex for mex...</td>\n",
              "      <td>mexico city (reuters) - egypt’s cheiron holdin...</td>\n",
              "      <td>1</td>\n",
              "    </tr>\n",
              "    <tr>\n",
              "      <th>4</th>\n",
              "      <td>http://www.cnn.com/videos/cnnmoney/2017/10/08/...</td>\n",
              "      <td>jason aldean opens 'snl' with vegas tribute</td>\n",
              "      <td>country singer jason aldean, who was performin...</td>\n",
              "      <td>1</td>\n",
              "    </tr>\n",
              "  </tbody>\n",
              "</table>\n",
              "</div>\n",
              "    <div class=\"colab-df-buttons\">\n",
              "\n",
              "  <div class=\"colab-df-container\">\n",
              "    <button class=\"colab-df-convert\" onclick=\"convertToInteractive('df-447a419c-9f5c-4bb6-b749-9cef5bc627c9')\"\n",
              "            title=\"Convert this dataframe to an interactive table.\"\n",
              "            style=\"display:none;\">\n",
              "\n",
              "  <svg xmlns=\"http://www.w3.org/2000/svg\" height=\"24px\" viewBox=\"0 -960 960 960\">\n",
              "    <path d=\"M120-120v-720h720v720H120Zm60-500h600v-160H180v160Zm220 220h160v-160H400v160Zm0 220h160v-160H400v160ZM180-400h160v-160H180v160Zm440 0h160v-160H620v160ZM180-180h160v-160H180v160Zm440 0h160v-160H620v160Z\"/>\n",
              "  </svg>\n",
              "    </button>\n",
              "\n",
              "  <style>\n",
              "    .colab-df-container {\n",
              "      display:flex;\n",
              "      gap: 12px;\n",
              "    }\n",
              "\n",
              "    .colab-df-convert {\n",
              "      background-color: #E8F0FE;\n",
              "      border: none;\n",
              "      border-radius: 50%;\n",
              "      cursor: pointer;\n",
              "      display: none;\n",
              "      fill: #1967D2;\n",
              "      height: 32px;\n",
              "      padding: 0 0 0 0;\n",
              "      width: 32px;\n",
              "    }\n",
              "\n",
              "    .colab-df-convert:hover {\n",
              "      background-color: #E2EBFA;\n",
              "      box-shadow: 0px 1px 2px rgba(60, 64, 67, 0.3), 0px 1px 3px 1px rgba(60, 64, 67, 0.15);\n",
              "      fill: #174EA6;\n",
              "    }\n",
              "\n",
              "    .colab-df-buttons div {\n",
              "      margin-bottom: 4px;\n",
              "    }\n",
              "\n",
              "    [theme=dark] .colab-df-convert {\n",
              "      background-color: #3B4455;\n",
              "      fill: #D2E3FC;\n",
              "    }\n",
              "\n",
              "    [theme=dark] .colab-df-convert:hover {\n",
              "      background-color: #434B5C;\n",
              "      box-shadow: 0px 1px 3px 1px rgba(0, 0, 0, 0.15);\n",
              "      filter: drop-shadow(0px 1px 2px rgba(0, 0, 0, 0.3));\n",
              "      fill: #FFFFFF;\n",
              "    }\n",
              "  </style>\n",
              "\n",
              "    <script>\n",
              "      const buttonEl =\n",
              "        document.querySelector('#df-447a419c-9f5c-4bb6-b749-9cef5bc627c9 button.colab-df-convert');\n",
              "      buttonEl.style.display =\n",
              "        google.colab.kernel.accessAllowed ? 'block' : 'none';\n",
              "\n",
              "      async function convertToInteractive(key) {\n",
              "        const element = document.querySelector('#df-447a419c-9f5c-4bb6-b749-9cef5bc627c9');\n",
              "        const dataTable =\n",
              "          await google.colab.kernel.invokeFunction('convertToInteractive',\n",
              "                                                    [key], {});\n",
              "        if (!dataTable) return;\n",
              "\n",
              "        const docLinkHtml = 'Like what you see? Visit the ' +\n",
              "          '<a target=\"_blank\" href=https://colab.research.google.com/notebooks/data_table.ipynb>data table notebook</a>'\n",
              "          + ' to learn more about interactive tables.';\n",
              "        element.innerHTML = '';\n",
              "        dataTable['output_type'] = 'display_data';\n",
              "        await google.colab.output.renderOutput(dataTable, element);\n",
              "        const docLink = document.createElement('div');\n",
              "        docLink.innerHTML = docLinkHtml;\n",
              "        element.appendChild(docLink);\n",
              "      }\n",
              "    </script>\n",
              "  </div>\n",
              "\n",
              "\n",
              "<div id=\"df-8ced18d8-3b46-4455-87e5-8bb06689f86e\">\n",
              "  <button class=\"colab-df-quickchart\" onclick=\"quickchart('df-8ced18d8-3b46-4455-87e5-8bb06689f86e')\"\n",
              "            title=\"Suggest charts\"\n",
              "            style=\"display:none;\">\n",
              "\n",
              "<svg xmlns=\"http://www.w3.org/2000/svg\" height=\"24px\"viewBox=\"0 0 24 24\"\n",
              "     width=\"24px\">\n",
              "    <g>\n",
              "        <path d=\"M19 3H5c-1.1 0-2 .9-2 2v14c0 1.1.9 2 2 2h14c1.1 0 2-.9 2-2V5c0-1.1-.9-2-2-2zM9 17H7v-7h2v7zm4 0h-2V7h2v10zm4 0h-2v-4h2v4z\"/>\n",
              "    </g>\n",
              "</svg>\n",
              "  </button>\n",
              "\n",
              "<style>\n",
              "  .colab-df-quickchart {\n",
              "      --bg-color: #E8F0FE;\n",
              "      --fill-color: #1967D2;\n",
              "      --hover-bg-color: #E2EBFA;\n",
              "      --hover-fill-color: #174EA6;\n",
              "      --disabled-fill-color: #AAA;\n",
              "      --disabled-bg-color: #DDD;\n",
              "  }\n",
              "\n",
              "  [theme=dark] .colab-df-quickchart {\n",
              "      --bg-color: #3B4455;\n",
              "      --fill-color: #D2E3FC;\n",
              "      --hover-bg-color: #434B5C;\n",
              "      --hover-fill-color: #FFFFFF;\n",
              "      --disabled-bg-color: #3B4455;\n",
              "      --disabled-fill-color: #666;\n",
              "  }\n",
              "\n",
              "  .colab-df-quickchart {\n",
              "    background-color: var(--bg-color);\n",
              "    border: none;\n",
              "    border-radius: 50%;\n",
              "    cursor: pointer;\n",
              "    display: none;\n",
              "    fill: var(--fill-color);\n",
              "    height: 32px;\n",
              "    padding: 0;\n",
              "    width: 32px;\n",
              "  }\n",
              "\n",
              "  .colab-df-quickchart:hover {\n",
              "    background-color: var(--hover-bg-color);\n",
              "    box-shadow: 0 1px 2px rgba(60, 64, 67, 0.3), 0 1px 3px 1px rgba(60, 64, 67, 0.15);\n",
              "    fill: var(--button-hover-fill-color);\n",
              "  }\n",
              "\n",
              "  .colab-df-quickchart-complete:disabled,\n",
              "  .colab-df-quickchart-complete:disabled:hover {\n",
              "    background-color: var(--disabled-bg-color);\n",
              "    fill: var(--disabled-fill-color);\n",
              "    box-shadow: none;\n",
              "  }\n",
              "\n",
              "  .colab-df-spinner {\n",
              "    border: 2px solid var(--fill-color);\n",
              "    border-color: transparent;\n",
              "    border-bottom-color: var(--fill-color);\n",
              "    animation:\n",
              "      spin 1s steps(1) infinite;\n",
              "  }\n",
              "\n",
              "  @keyframes spin {\n",
              "    0% {\n",
              "      border-color: transparent;\n",
              "      border-bottom-color: var(--fill-color);\n",
              "      border-left-color: var(--fill-color);\n",
              "    }\n",
              "    20% {\n",
              "      border-color: transparent;\n",
              "      border-left-color: var(--fill-color);\n",
              "      border-top-color: var(--fill-color);\n",
              "    }\n",
              "    30% {\n",
              "      border-color: transparent;\n",
              "      border-left-color: var(--fill-color);\n",
              "      border-top-color: var(--fill-color);\n",
              "      border-right-color: var(--fill-color);\n",
              "    }\n",
              "    40% {\n",
              "      border-color: transparent;\n",
              "      border-right-color: var(--fill-color);\n",
              "      border-top-color: var(--fill-color);\n",
              "    }\n",
              "    60% {\n",
              "      border-color: transparent;\n",
              "      border-right-color: var(--fill-color);\n",
              "    }\n",
              "    80% {\n",
              "      border-color: transparent;\n",
              "      border-right-color: var(--fill-color);\n",
              "      border-bottom-color: var(--fill-color);\n",
              "    }\n",
              "    90% {\n",
              "      border-color: transparent;\n",
              "      border-bottom-color: var(--fill-color);\n",
              "    }\n",
              "  }\n",
              "</style>\n",
              "\n",
              "  <script>\n",
              "    async function quickchart(key) {\n",
              "      const quickchartButtonEl =\n",
              "        document.querySelector('#' + key + ' button');\n",
              "      quickchartButtonEl.disabled = true;  // To prevent multiple clicks.\n",
              "      quickchartButtonEl.classList.add('colab-df-spinner');\n",
              "      try {\n",
              "        const charts = await google.colab.kernel.invokeFunction(\n",
              "            'suggestCharts', [key], {});\n",
              "      } catch (error) {\n",
              "        console.error('Error during call to suggestCharts:', error);\n",
              "      }\n",
              "      quickchartButtonEl.classList.remove('colab-df-spinner');\n",
              "      quickchartButtonEl.classList.add('colab-df-quickchart-complete');\n",
              "    }\n",
              "    (() => {\n",
              "      let quickchartButtonEl =\n",
              "        document.querySelector('#df-8ced18d8-3b46-4455-87e5-8bb06689f86e button');\n",
              "      quickchartButtonEl.style.display =\n",
              "        google.colab.kernel.accessAllowed ? 'block' : 'none';\n",
              "    })();\n",
              "  </script>\n",
              "</div>\n",
              "\n",
              "    </div>\n",
              "  </div>\n"
            ]
          },
          "metadata": {},
          "execution_count": 6
        }
      ],
      "source": [
        "df['Headline'] = df['Headline'].str.lower()\n",
        "df['Body'] = df['Body'].str.lower()\n",
        "df.head()"
      ]
    },
    {
      "cell_type": "code",
      "execution_count": null,
      "metadata": {
        "id": "5qCXZa1zqfRV"
      },
      "outputs": [],
      "source": [
        "import string\n",
        "def remove_punctuations(text):\n",
        "    punctuations = set(string.punctuation)\n",
        "    text = str(text)\n",
        "    # return text.translate(str.maketrans('', '', punctuations))\n",
        "    return \" \".join([word for word in text.split() if word not in punctuations])\n",
        "\n",
        "df['Headline'] = df['Headline'].apply(lambda x: remove_punctuations(x))\n",
        "df['Body'] = df['Body'].apply(lambda x: remove_punctuations(x))"
      ]
    },
    {
      "cell_type": "code",
      "source": [
        "import nltk\n",
        "nltk.download('stopwords')"
      ],
      "metadata": {
        "colab": {
          "base_uri": "https://localhost:8080/"
        },
        "id": "PDWMN7BPrX_u",
        "outputId": "042da64c-3194-48db-a173-ec0c49e9ca33"
      },
      "execution_count": null,
      "outputs": [
        {
          "output_type": "stream",
          "name": "stderr",
          "text": [
            "[nltk_data] Downloading package stopwords to /root/nltk_data...\n",
            "[nltk_data]   Unzipping corpora/stopwords.zip.\n"
          ]
        },
        {
          "output_type": "execute_result",
          "data": {
            "text/plain": [
              "True"
            ]
          },
          "metadata": {},
          "execution_count": 8
        }
      ]
    },
    {
      "cell_type": "code",
      "execution_count": null,
      "metadata": {
        "id": "3FigsG76qfRW"
      },
      "outputs": [],
      "source": [
        "from nltk.corpus import stopwords\n",
        "STOPWORDS = set(stopwords.words('english'))\n",
        "def remove_stopwords(text):\n",
        "    return \" \".join([word for word in text.split() if word not in STOPWORDS])\n",
        "\n",
        "df['Headline'] = df['Headline'].apply(lambda x: remove_stopwords(x))\n",
        "df['Body'] = df['Body'].apply(lambda x: remove_stopwords(x))"
      ]
    },
    {
      "cell_type": "code",
      "execution_count": null,
      "metadata": {
        "id": "FQAHF-DxqfRW"
      },
      "outputs": [],
      "source": [
        "import re\n",
        "def remove_spl_chars(text):\n",
        "    text = re.sub('[^a-zA-Z0-9]', ' ', text)\n",
        "    text = re.sub('\\s+', ' ', text)\n",
        "    return text\n",
        "\n",
        "df['Headline'] = df['Headline'].apply(lambda x: remove_spl_chars(x))\n",
        "df['Body'] = df['Body'].apply(lambda x: remove_spl_chars(x))"
      ]
    },
    {
      "cell_type": "code",
      "execution_count": null,
      "metadata": {
        "id": "c_vXdkJ6qfRX"
      },
      "outputs": [],
      "source": [
        "from nltk.stem import SnowballStemmer\n",
        "stemmer = SnowballStemmer(language='english')\n",
        "def stem(text):\n",
        "    stemmed_sentence = \" \".join(stemmer.stem(word) for word in text.split())\n",
        "    return stemmed_sentence\n",
        "\n",
        "df['Headline'] = df['Headline'].apply(lambda x: stem(x))\n",
        "df['Body'] = df['Body'].apply(lambda x: stem(x))"
      ]
    },
    {
      "cell_type": "code",
      "execution_count": null,
      "metadata": {
        "id": "wisSj8wNqfRX"
      },
      "outputs": [],
      "source": [
        "def remove_url(text):\n",
        "    return re.sub(r'https?://\\S+|www\\.\\S+', '', text)\n",
        "\n",
        "df['Headline'] = df['Headline'].apply(lambda x: remove_url(x))\n",
        "df['Body'] = df['Body'].apply(lambda x: remove_url(x))"
      ]
    },
    {
      "cell_type": "code",
      "execution_count": null,
      "metadata": {
        "colab": {
          "base_uri": "https://localhost:8080/"
        },
        "id": "6XR531ZEqfRY",
        "outputId": "e03af813-b6eb-49b8-fd43-9f810737287e"
      },
      "outputs": [
        {
          "output_type": "stream",
          "name": "stdout",
          "text": [
            "3988\n"
          ]
        },
        {
          "output_type": "execute_result",
          "data": {
            "text/plain": [
              "3988"
            ]
          },
          "metadata": {},
          "execution_count": 13
        }
      ],
      "source": [
        "texts = []\n",
        "labels = []\n",
        "for i in range(3988):\n",
        "    texts.append(df['Body'][i])\n",
        "    labels.append(df['Label'][i])\n",
        "\n",
        "print(len(texts))\n",
        "len(labels)"
      ]
    },
    {
      "cell_type": "code",
      "execution_count": null,
      "metadata": {
        "id": "icXC5vmjqfRZ"
      },
      "outputs": [],
      "source": [
        "max_words = 10000\n",
        "max_seq_length = 1000\n",
        "# the percentage of train test split to be applied\n",
        "validation_split = 0.2\n",
        "# the dimension of vectors to be used\n",
        "embedding_dim = 100\n",
        "# filter sizes of the different conv layers\n",
        "filter_sizes = [3,4,5]\n",
        "num_filters = 512\n",
        "embedding_dim = 100\n",
        "# dropout probability\n",
        "drop = 0.5\n",
        "batch_size = 30\n",
        "epochs = 20"
      ]
    },
    {
      "cell_type": "code",
      "execution_count": null,
      "metadata": {
        "id": "qqPgE1fSqfRa"
      },
      "outputs": [],
      "source": [
        "tokenizer = Tokenizer(num_words=max_words)\n",
        "tokenizer.fit_on_texts(texts)\n",
        "sequences = tokenizer.texts_to_sequences(texts)"
      ]
    },
    {
      "cell_type": "code",
      "execution_count": null,
      "metadata": {
        "colab": {
          "base_uri": "https://localhost:8080/"
        },
        "id": "6yYaqAYtqfRa",
        "outputId": "3da65346-4f0b-4fd4-b842-6b9c04c014aa"
      },
      "outputs": [
        {
          "output_type": "execute_result",
          "data": {
            "text/plain": [
              "32035"
            ]
          },
          "metadata": {},
          "execution_count": 16
        }
      ],
      "source": [
        "word_index = tokenizer.word_index\n",
        "len(word_index)"
      ]
    },
    {
      "cell_type": "code",
      "execution_count": null,
      "metadata": {
        "id": "W3Y3GFJZqfRb"
      },
      "outputs": [],
      "source": [
        "word_index"
      ]
    },
    {
      "cell_type": "code",
      "execution_count": null,
      "metadata": {
        "id": "9uf88xocqfRc"
      },
      "outputs": [],
      "source": [
        "data = pad_sequences(sequences, maxlen=max_seq_length)\n",
        "labels = to_categorical(np.asarray(labels))"
      ]
    },
    {
      "cell_type": "code",
      "execution_count": null,
      "metadata": {
        "id": "99R95AztqfRc"
      },
      "outputs": [],
      "source": [
        "label_index = {'Fake': 1, 'Not_Fake': 0}"
      ]
    },
    {
      "cell_type": "code",
      "execution_count": null,
      "metadata": {
        "colab": {
          "base_uri": "https://localhost:8080/"
        },
        "id": "f8lS1bS1qfRd",
        "outputId": "b9294465-7288-4926-b399-c2beb79b47fe"
      },
      "outputs": [
        {
          "output_type": "stream",
          "name": "stdout",
          "text": [
            "Shape of data tensor:  (3988, 1000)\n",
            "Shape of label tensor:  (3988, 2)\n"
          ]
        }
      ],
      "source": [
        "print(\"Shape of data tensor: \", data.shape)\n",
        "print(\"Shape of label tensor: \", labels.shape)"
      ]
    },
    {
      "cell_type": "code",
      "execution_count": null,
      "metadata": {
        "colab": {
          "base_uri": "https://localhost:8080/"
        },
        "id": "OGtihNeVqfRd",
        "outputId": "55e5e824-c7d5-4d5b-f0f3-97e528a753b0"
      },
      "outputs": [
        {
          "output_type": "execute_result",
          "data": {
            "text/plain": [
              "numpy.ndarray"
            ]
          },
          "metadata": {},
          "execution_count": 21
        }
      ],
      "source": [
        "type(data)"
      ]
    },
    {
      "cell_type": "code",
      "execution_count": null,
      "metadata": {
        "id": "I2pCGFXZqfRe"
      },
      "outputs": [],
      "source": [
        "indices = np.arange(data.shape[0])\n",
        "np.random.shuffle(indices)\n",
        "data = data[indices]\n",
        "labels = labels[indices]\n",
        "nb_validation_samples = int(validation_split * data.shape[0])\n",
        "\n",
        "x_train = data[:-nb_validation_samples]\n",
        "y_train = labels[:-nb_validation_samples]\n",
        "x_val = data[-nb_validation_samples:]\n",
        "y_val = labels[-nb_validation_samples:]"
      ]
    },
    {
      "cell_type": "code",
      "execution_count": null,
      "metadata": {
        "colab": {
          "base_uri": "https://localhost:8080/"
        },
        "id": "jpTU8x_PqfRe",
        "outputId": "0f6c4613-63b8-4887-92f1-0ec3e4a6ffab"
      },
      "outputs": [
        {
          "output_type": "stream",
          "name": "stdout",
          "text": [
            "(3191, 1000)\n"
          ]
        },
        {
          "output_type": "execute_result",
          "data": {
            "text/plain": [
              "(797, 1000)"
            ]
          },
          "metadata": {},
          "execution_count": 23
        }
      ],
      "source": [
        "print(x_train.shape)\n",
        "x_val.shape"
      ]
    },
    {
      "cell_type": "code",
      "execution_count": null,
      "metadata": {
        "colab": {
          "base_uri": "https://localhost:8080/"
        },
        "id": "wkeDyEfRqfRf",
        "outputId": "0d2dab7d-17b2-4a80-e3fe-416020181a3c"
      },
      "outputs": [
        {
          "output_type": "execute_result",
          "data": {
            "text/plain": [
              "(1000,)"
            ]
          },
          "metadata": {},
          "execution_count": 24
        }
      ],
      "source": [
        "x_train[0].shape"
      ]
    },
    {
      "cell_type": "code",
      "source": [
        "!wget http://nlp.stanford.edu/data/glove.6B.zip"
      ],
      "metadata": {
        "colab": {
          "base_uri": "https://localhost:8080/"
        },
        "id": "hwwHdm0nspq6",
        "outputId": "4712d575-6162-4fa0-c164-a94b9f77f9e1"
      },
      "execution_count": null,
      "outputs": [
        {
          "output_type": "stream",
          "name": "stdout",
          "text": [
            "--2023-12-30 14:27:35--  http://nlp.stanford.edu/data/glove.6B.zip\n",
            "Resolving nlp.stanford.edu (nlp.stanford.edu)... 171.64.67.140\n",
            "Connecting to nlp.stanford.edu (nlp.stanford.edu)|171.64.67.140|:80... connected.\n",
            "HTTP request sent, awaiting response... 302 Found\n",
            "Location: https://nlp.stanford.edu/data/glove.6B.zip [following]\n",
            "--2023-12-30 14:27:35--  https://nlp.stanford.edu/data/glove.6B.zip\n",
            "Connecting to nlp.stanford.edu (nlp.stanford.edu)|171.64.67.140|:443... connected.\n",
            "HTTP request sent, awaiting response... 301 Moved Permanently\n",
            "Location: https://downloads.cs.stanford.edu/nlp/data/glove.6B.zip [following]\n",
            "--2023-12-30 14:27:35--  https://downloads.cs.stanford.edu/nlp/data/glove.6B.zip\n",
            "Resolving downloads.cs.stanford.edu (downloads.cs.stanford.edu)... 171.64.64.22\n",
            "Connecting to downloads.cs.stanford.edu (downloads.cs.stanford.edu)|171.64.64.22|:443... connected.\n",
            "HTTP request sent, awaiting response... 200 OK\n",
            "Length: 862182613 (822M) [application/zip]\n",
            "Saving to: ‘glove.6B.zip’\n",
            "\n",
            "glove.6B.zip        100%[===================>] 822.24M  5.00MB/s    in 2m 39s  \n",
            "\n",
            "2023-12-30 14:30:14 (5.17 MB/s) - ‘glove.6B.zip’ saved [862182613/862182613]\n",
            "\n"
          ]
        }
      ]
    },
    {
      "cell_type": "code",
      "source": [
        "!unzip glove*.zip"
      ],
      "metadata": {
        "colab": {
          "base_uri": "https://localhost:8080/"
        },
        "id": "mCfZ3eZwszkJ",
        "outputId": "2582d14b-dc2b-4296-89de-3c65c64a44b1"
      },
      "execution_count": null,
      "outputs": [
        {
          "output_type": "stream",
          "name": "stdout",
          "text": [
            "Archive:  glove.6B.zip\n",
            "  inflating: glove.6B.50d.txt        \n",
            "  inflating: glove.6B.100d.txt       \n",
            "  inflating: glove.6B.200d.txt       \n",
            "  inflating: glove.6B.300d.txt       \n"
          ]
        }
      ]
    },
    {
      "cell_type": "code",
      "source": [
        "!ls\n",
        "!pwd"
      ],
      "metadata": {
        "colab": {
          "base_uri": "https://localhost:8080/"
        },
        "id": "dvf9xmeXs3mh",
        "outputId": "4f018e78-9688-4cd2-d025-9b066850eae6"
      },
      "execution_count": null,
      "outputs": [
        {
          "output_type": "stream",
          "name": "stdout",
          "text": [
            "data.csv\t   glove.6B.200d.txt  glove.6B.50d.txt\tsample_data\n",
            "glove.6B.100d.txt  glove.6B.300d.txt  glove.6B.zip\n",
            "/content\n"
          ]
        }
      ]
    },
    {
      "cell_type": "code",
      "execution_count": null,
      "metadata": {
        "id": "VdBv2tjlqfRf"
      },
      "outputs": [],
      "source": [
        "embeddings_idx = {}\n",
        "f = open(\"glove.6B.100d.txt\", encoding='utf8')\n",
        "for line in f:\n",
        "    values = line.split()\n",
        "    word = values[0]\n",
        "    coefs = np.asarray(values[1:], dtype='float32')\n",
        "    embeddings_idx[word] = coefs\n",
        "f.close()"
      ]
    },
    {
      "cell_type": "code",
      "execution_count": null,
      "metadata": {
        "colab": {
          "base_uri": "https://localhost:8080/"
        },
        "id": "C7rh7s0PqfRf",
        "outputId": "84af6e16-0b91-4e48-dd94-234776d99844"
      },
      "outputs": [
        {
          "output_type": "execute_result",
          "data": {
            "text/plain": [
              "400000"
            ]
          },
          "metadata": {},
          "execution_count": 29
        }
      ],
      "source": [
        "len(embeddings_idx)"
      ]
    },
    {
      "cell_type": "code",
      "execution_count": null,
      "metadata": {
        "colab": {
          "base_uri": "https://localhost:8080/"
        },
        "id": "LnSU4tk4qfRg",
        "outputId": "642d36b9-cf3e-4cb9-b8db-5937b6ceeda1"
      },
      "outputs": [
        {
          "output_type": "execute_result",
          "data": {
            "text/plain": [
              "32035"
            ]
          },
          "metadata": {},
          "execution_count": 30
        }
      ],
      "source": [
        "len(word_index)"
      ]
    },
    {
      "cell_type": "code",
      "execution_count": null,
      "metadata": {
        "id": "Lx-E0-m_qfRg"
      },
      "outputs": [],
      "source": [
        "embedding_matrix = np.zeros((len(word_index) + 1, embedding_dim))\n",
        "for word, i in word_index.items():\n",
        "    embedding_vector = embeddings_idx.get(word)\n",
        "    if embedding_vector is not None:\n",
        "        # words not found in embedding index will be all-zeros.\n",
        "        embedding_matrix[i] = embedding_vector"
      ]
    },
    {
      "cell_type": "code",
      "execution_count": null,
      "metadata": {
        "colab": {
          "base_uri": "https://localhost:8080/"
        },
        "id": "kHX15pP_qfRg",
        "outputId": "f4382c0b-6a7a-4493-f221-56b4df1d8a0e"
      },
      "outputs": [
        {
          "output_type": "execute_result",
          "data": {
            "text/plain": [
              "array([[ 0.        ,  0.        ,  0.        , ...,  0.        ,\n",
              "         0.        ,  0.        ],\n",
              "       [ 0.13739   ,  0.77890998,  0.80053997, ..., -0.61676002,\n",
              "         0.44703001, -0.27967   ],\n",
              "       [-0.13128   , -0.45199999,  0.043399  , ..., -0.30526   ,\n",
              "        -0.045495  ,  0.56509   ],\n",
              "       ...,\n",
              "       [-0.12560999, -0.020344  , -0.31240001, ...,  0.38492   ,\n",
              "        -0.55392998, -0.29003999],\n",
              "       [-0.017809  ,  0.74079001,  0.37839001, ...,  0.23705   ,\n",
              "        -0.41218999, -0.090674  ],\n",
              "       [ 0.17927   ,  0.23128   , -0.55498999, ...,  0.43808001,\n",
              "         0.15075   , -0.59816998]])"
            ]
          },
          "metadata": {},
          "execution_count": 32
        }
      ],
      "source": [
        "embedding_matrix"
      ]
    },
    {
      "cell_type": "code",
      "execution_count": null,
      "metadata": {
        "id": "rP7SNdiHqfRh"
      },
      "outputs": [],
      "source": [
        "from keras.layers import Embedding\n",
        "\n",
        "embedding_layer = Embedding(input_dim=len(word_index)+1, output_dim=embedding_dim, weights=[embedding_matrix], input_length=max_seq_length,\n",
        "                            trainable=False)"
      ]
    },
    {
      "cell_type": "code",
      "execution_count": null,
      "metadata": {
        "colab": {
          "base_uri": "https://localhost:8080/"
        },
        "id": "SJ8r70atqfRh",
        "outputId": "95ec7640-d7f7-4221-c97a-d247711fee46"
      },
      "outputs": [
        {
          "output_type": "execute_result",
          "data": {
            "text/plain": [
              "TensorShape([None, 1000, 100])"
            ]
          },
          "metadata": {},
          "execution_count": 34
        }
      ],
      "source": [
        "inputs = Input(shape=(max_seq_length, ), dtype='int32')\n",
        "embedding = embedding_layer(inputs)\n",
        "embedding.shape"
      ]
    },
    {
      "cell_type": "code",
      "execution_count": null,
      "metadata": {
        "colab": {
          "base_uri": "https://localhost:8080/"
        },
        "id": "cgC5rirjqfRi",
        "outputId": "cd22682a-9803-4c57-93cc-f7d971fcdfa7"
      },
      "outputs": [
        {
          "output_type": "execute_result",
          "data": {
            "text/plain": [
              "TensorShape([None, 1000, 100, 1])"
            ]
          },
          "metadata": {},
          "execution_count": 35
        }
      ],
      "source": [
        "reshaped_inp = Reshape((max_seq_length, embedding_dim, 1))(embedding)\n",
        "reshaped_inp.shape"
      ]
    },
    {
      "cell_type": "code",
      "execution_count": null,
      "metadata": {
        "colab": {
          "base_uri": "https://localhost:8080/"
        },
        "id": "ap5Vbl47qfRi",
        "outputId": "693d1c20-1bcf-44d6-95e3-d777e8b14c00"
      },
      "outputs": [
        {
          "output_type": "execute_result",
          "data": {
            "text/plain": [
              "TensorShape([None, 1, 1, 512])"
            ]
          },
          "metadata": {},
          "execution_count": 36
        }
      ],
      "source": [
        "conv_1 = Conv2D(num_filters, kernel_size=(filter_sizes[0], embedding_dim), padding=\"valid\", kernel_initializer='normal',\n",
        "                activation='relu')(reshaped_inp)\n",
        "maxpool_1 = MaxPool2D(pool_size=(max_seq_length - filter_sizes[0] + 1, 1), strides=(1,1), padding='valid')(conv_1)\n",
        "maxpool_1.shape\n"
      ]
    },
    {
      "cell_type": "code",
      "execution_count": null,
      "metadata": {
        "colab": {
          "base_uri": "https://localhost:8080/"
        },
        "id": "6FNsb2gPqfRi",
        "outputId": "e0653e50-c1fc-4a3d-fb63-b0d0749d67b4"
      },
      "outputs": [
        {
          "output_type": "execute_result",
          "data": {
            "text/plain": [
              "TensorShape([None, 1, 1, 512])"
            ]
          },
          "metadata": {},
          "execution_count": 37
        }
      ],
      "source": [
        "conv_2 = Conv2D(num_filters, kernel_size=(filter_sizes[1], embedding_dim), padding=\"valid\", kernel_initializer='normal',\n",
        "                activation='relu')(reshaped_inp)\n",
        "maxpool_2 = MaxPool2D(pool_size=(max_seq_length - filter_sizes[1] + 1, 1), strides=(1,1), padding='valid')(conv_2)\n",
        "maxpool_2.shape"
      ]
    },
    {
      "cell_type": "code",
      "execution_count": null,
      "metadata": {
        "colab": {
          "base_uri": "https://localhost:8080/"
        },
        "id": "ufejv0fYqfRj",
        "outputId": "4f7a1edf-d77d-423f-de08-29e6d8592c1d"
      },
      "outputs": [
        {
          "output_type": "execute_result",
          "data": {
            "text/plain": [
              "TensorShape([None, 1, 1, 512])"
            ]
          },
          "metadata": {},
          "execution_count": 38
        }
      ],
      "source": [
        "conv_3 = Conv2D(num_filters, kernel_size=(filter_sizes[2], embedding_dim), padding=\"valid\", kernel_initializer='normal',\n",
        "                activation='relu')(reshaped_inp)\n",
        "maxpool_3 = MaxPool2D(pool_size=(max_seq_length - filter_sizes[2] + 1, 1), strides=(1,1), padding='valid')(conv_3)\n",
        "maxpool_3.shape"
      ]
    },
    {
      "cell_type": "code",
      "execution_count": null,
      "metadata": {
        "id": "xhAz_tH9qfRj"
      },
      "outputs": [],
      "source": [
        "concatenated_tensor = Concatenate(axis=1)([maxpool_1, maxpool_2, maxpool_3])\n",
        "flatten = Flatten()(concatenated_tensor)\n",
        "dropout = Dropout(drop)(flatten)\n",
        "output = Dense(units=2, activation='sigmoid')(dropout)"
      ]
    },
    {
      "cell_type": "code",
      "execution_count": null,
      "metadata": {
        "colab": {
          "base_uri": "https://localhost:8080/"
        },
        "id": "FSRQhH0eqfRk",
        "outputId": "2f57fbac-dcde-4b42-9ae2-57d59c47ee0e"
      },
      "outputs": [
        {
          "output_type": "execute_result",
          "data": {
            "text/plain": [
              "TensorShape([None, 2])"
            ]
          },
          "metadata": {},
          "execution_count": 40
        }
      ],
      "source": [
        "output.shape"
      ]
    },
    {
      "cell_type": "code",
      "execution_count": null,
      "metadata": {
        "colab": {
          "base_uri": "https://localhost:8080/"
        },
        "id": "dt-tsK3BqfRk",
        "outputId": "8bc7b32b-8198-41f6-b361-e5ea3b3ac8a5"
      },
      "outputs": [
        {
          "output_type": "stream",
          "name": "stdout",
          "text": [
            "Model: \"model\"\n",
            "__________________________________________________________________________________________________\n",
            " Layer (type)                Output Shape                 Param #   Connected to                  \n",
            "==================================================================================================\n",
            " input_1 (InputLayer)        [(None, 1000)]               0         []                            \n",
            "                                                                                                  \n",
            " embedding (Embedding)       (None, 1000, 100)            3203600   ['input_1[0][0]']             \n",
            "                                                                                                  \n",
            " reshape (Reshape)           (None, 1000, 100, 1)         0         ['embedding[0][0]']           \n",
            "                                                                                                  \n",
            " conv2d (Conv2D)             (None, 998, 1, 512)          154112    ['reshape[0][0]']             \n",
            "                                                                                                  \n",
            " conv2d_1 (Conv2D)           (None, 997, 1, 512)          205312    ['reshape[0][0]']             \n",
            "                                                                                                  \n",
            " conv2d_2 (Conv2D)           (None, 996, 1, 512)          256512    ['reshape[0][0]']             \n",
            "                                                                                                  \n",
            " max_pooling2d (MaxPooling2  (None, 1, 1, 512)            0         ['conv2d[0][0]']              \n",
            " D)                                                                                               \n",
            "                                                                                                  \n",
            " max_pooling2d_1 (MaxPoolin  (None, 1, 1, 512)            0         ['conv2d_1[0][0]']            \n",
            " g2D)                                                                                             \n",
            "                                                                                                  \n",
            " max_pooling2d_2 (MaxPoolin  (None, 1, 1, 512)            0         ['conv2d_2[0][0]']            \n",
            " g2D)                                                                                             \n",
            "                                                                                                  \n",
            " concatenate (Concatenate)   (None, 3, 1, 512)            0         ['max_pooling2d[0][0]',       \n",
            "                                                                     'max_pooling2d_1[0][0]',     \n",
            "                                                                     'max_pooling2d_2[0][0]']     \n",
            "                                                                                                  \n",
            " flatten (Flatten)           (None, 1536)                 0         ['concatenate[0][0]']         \n",
            "                                                                                                  \n",
            " dropout (Dropout)           (None, 1536)                 0         ['flatten[0][0]']             \n",
            "                                                                                                  \n",
            " dense (Dense)               (None, 2)                    3074      ['dropout[0][0]']             \n",
            "                                                                                                  \n",
            "==================================================================================================\n",
            "Total params: 3822610 (14.58 MB)\n",
            "Trainable params: 619010 (2.36 MB)\n",
            "Non-trainable params: 3203600 (12.22 MB)\n",
            "__________________________________________________________________________________________________\n",
            "None\n"
          ]
        }
      ],
      "source": [
        "import tensorflow as tf\n",
        "model = Model(inputs=inputs, outputs=output)\n",
        "with tf.device('/device:GPU:0'):\n",
        "  adam = Adam(learning_rate=1e-4, beta_1=0.9, beta_2=0.999, epsilon=1e-08)\n",
        "  model.compile(optimizer=adam, loss='categorical_crossentropy', metrics=['accuracy'])\n",
        "print(model.summary())"
      ]
    },
    {
      "cell_type": "code",
      "execution_count": null,
      "metadata": {
        "colab": {
          "base_uri": "https://localhost:8080/"
        },
        "id": "on0LBRHeqfRk",
        "outputId": "43853cf3-1cc5-4954-ff25-27a24430e4a2"
      },
      "outputs": [
        {
          "output_type": "stream",
          "name": "stdout",
          "text": [
            "Traning Model...\n",
            "Epoch 1/20\n",
            "107/107 [==============================] - 14s 84ms/step - loss: 0.8596 - accuracy: 0.6431 - val_loss: 0.3297 - val_accuracy: 0.8507\n",
            "Epoch 2/20\n",
            "107/107 [==============================] - 8s 72ms/step - loss: 0.4998 - accuracy: 0.8001 - val_loss: 0.1967 - val_accuracy: 0.9260\n",
            "Epoch 3/20\n",
            "107/107 [==============================] - 8s 73ms/step - loss: 0.3601 - accuracy: 0.8496 - val_loss: 0.1720 - val_accuracy: 0.9322\n",
            "Epoch 4/20\n",
            "107/107 [==============================] - 8s 73ms/step - loss: 0.2667 - accuracy: 0.8972 - val_loss: 0.1369 - val_accuracy: 0.9423\n",
            "Epoch 5/20\n",
            "107/107 [==============================] - 8s 74ms/step - loss: 0.2235 - accuracy: 0.9173 - val_loss: 0.1337 - val_accuracy: 0.9410\n",
            "Epoch 6/20\n",
            "107/107 [==============================] - 8s 75ms/step - loss: 0.1663 - accuracy: 0.9329 - val_loss: 0.1037 - val_accuracy: 0.9686\n",
            "Epoch 7/20\n",
            "107/107 [==============================] - 8s 75ms/step - loss: 0.1619 - accuracy: 0.9373 - val_loss: 0.1085 - val_accuracy: 0.9548\n",
            "Epoch 8/20\n",
            "107/107 [==============================] - 8s 76ms/step - loss: 0.1340 - accuracy: 0.9467 - val_loss: 0.0910 - val_accuracy: 0.9711\n",
            "Epoch 9/20\n",
            "107/107 [==============================] - 8s 76ms/step - loss: 0.1080 - accuracy: 0.9615 - val_loss: 0.0986 - val_accuracy: 0.9649\n",
            "Epoch 10/20\n",
            "107/107 [==============================] - 8s 77ms/step - loss: 0.1036 - accuracy: 0.9589 - val_loss: 0.0807 - val_accuracy: 0.9774\n",
            "Epoch 11/20\n",
            "107/107 [==============================] - 8s 78ms/step - loss: 0.0956 - accuracy: 0.9655 - val_loss: 0.0768 - val_accuracy: 0.9762\n",
            "Epoch 12/20\n",
            "107/107 [==============================] - 8s 78ms/step - loss: 0.0816 - accuracy: 0.9680 - val_loss: 0.0786 - val_accuracy: 0.9749\n",
            "Epoch 13/20\n",
            "107/107 [==============================] - 8s 78ms/step - loss: 0.0665 - accuracy: 0.9718 - val_loss: 0.0721 - val_accuracy: 0.9799\n",
            "Epoch 14/20\n",
            "107/107 [==============================] - 8s 79ms/step - loss: 0.0621 - accuracy: 0.9768 - val_loss: 0.0936 - val_accuracy: 0.9711\n",
            "Epoch 15/20\n",
            "107/107 [==============================] - 8s 79ms/step - loss: 0.0520 - accuracy: 0.9796 - val_loss: 0.0733 - val_accuracy: 0.9774\n",
            "Epoch 16/20\n",
            "107/107 [==============================] - 8s 77ms/step - loss: 0.0436 - accuracy: 0.9840 - val_loss: 0.0636 - val_accuracy: 0.9812\n",
            "Epoch 17/20\n",
            "107/107 [==============================] - 8s 78ms/step - loss: 0.0453 - accuracy: 0.9859 - val_loss: 0.0627 - val_accuracy: 0.9812\n",
            "Epoch 18/20\n",
            "107/107 [==============================] - 8s 77ms/step - loss: 0.0479 - accuracy: 0.9815 - val_loss: 0.0624 - val_accuracy: 0.9799\n",
            "Epoch 19/20\n",
            "107/107 [==============================] - 8s 77ms/step - loss: 0.0405 - accuracy: 0.9872 - val_loss: 0.0620 - val_accuracy: 0.9799\n",
            "Epoch 20/20\n",
            "107/107 [==============================] - 8s 77ms/step - loss: 0.0344 - accuracy: 0.9884 - val_loss: 0.0666 - val_accuracy: 0.9812\n"
          ]
        }
      ],
      "source": [
        "print(\"Traning Model...\")\n",
        "history = model.fit(x_train, y_train, batch_size=batch_size, epochs=epochs, verbose=1, validation_data=(x_val, y_val))"
      ]
    },
    {
      "cell_type": "code",
      "execution_count": null,
      "metadata": {
        "colab": {
          "base_uri": "https://localhost:8080/"
        },
        "id": "I49HaHOSqfRk",
        "outputId": "1532deca-66d0-44f5-9eae-da0ccc3c43bf"
      },
      "outputs": [
        {
          "output_type": "execute_result",
          "data": {
            "text/plain": [
              "(3191, 1000)"
            ]
          },
          "metadata": {},
          "execution_count": 43
        }
      ],
      "source": [
        "x_train.shape"
      ]
    },
    {
      "cell_type": "code",
      "source": [
        "import matplotlib.pyplot as plt\n",
        "\n",
        "plt.plot(history.history['accuracy'])\n",
        "plt.plot(history.history['val_accuracy'])\n",
        "plt.title('Accuracy Curve')\n",
        "plt.ylabel('Accuracy')\n",
        "plt.xlabel('Epochs')\n",
        "plt.legend(['train', 'validation'], loc='lower right')\n",
        "plt.show()"
      ],
      "metadata": {
        "colab": {
          "base_uri": "https://localhost:8080/",
          "height": 472
        },
        "id": "5113aJhlLYTn",
        "outputId": "f2680652-b614-4558-ead7-8557ffaebbf6"
      },
      "execution_count": null,
      "outputs": [
        {
          "output_type": "display_data",
          "data": {
            "text/plain": [
              "<Figure size 640x480 with 1 Axes>"
            ],
            "image/png": "[encoded data removed]"
          },
          "metadata": {}
        }
      ]
    },
    {
      "cell_type": "code",
      "source": [
        "\n",
        "plt.plot(history.history['loss'])\n",
        "plt.plot(history.history['val_loss'])\n",
        "plt.title('Loss Curve')\n",
        "plt.ylabel('Loss')\n",
        "plt.xlabel('Epochs')\n",
        "plt.legend(['train', 'validation'], loc='lower right')\n",
        "plt.show()"
      ],
      "metadata": {
        "colab": {
          "base_uri": "https://localhost:8080/",
          "height": 472
        },
        "id": "qoF986b1NKFZ",
        "outputId": "f9d75b8c-9682-4c91-d924-74c12c65cb4e"
      },
      "execution_count": null,
      "outputs": [
        {
          "output_type": "display_data",
          "data": {
            "text/plain": [
              "<Figure size 640x480 with 1 Axes>"
            ],
            "image/png": "[encoded data removed]"
          },
          "metadata": {}
        }
      ]
    },
    {
      "cell_type": "markdown",
      "source": [
        "##Using RNN"
      ],
      "metadata": {
        "id": "M4pf9mpQLVky"
      }
    },
    {
      "cell_type": "code",
      "execution_count": null,
      "metadata": {
        "id": "RgwlzCZLqfRl"
      },
      "outputs": [],
      "source": [
        "def RNN():\n",
        "    inputs = Input(name='inputs',shape=[max_seq_length])\n",
        "    layer = Embedding(max_words,100,input_length=max_seq_length)(inputs)\n",
        "    layer = LSTM(64)(layer)\n",
        "    layer = Dense(256,name='FC1')(layer)\n",
        "    layer = Activation('relu')(layer)\n",
        "    layer = Dropout(0.5)(layer)\n",
        "    layer = Dense(2,name='out_layer')(layer)\n",
        "    layer = Activation('sigmoid')(layer)\n",
        "    model = Model(inputs=inputs,outputs=layer)\n",
        "    return model"
      ]
    },
    {
      "cell_type": "code",
      "execution_count": null,
      "metadata": {
        "colab": {
          "base_uri": "https://localhost:8080/"
        },
        "id": "Rq-8vfCMqfRl",
        "outputId": "50bfd8a2-fccb-4537-c35b-061d09b452df"
      },
      "outputs": [
        {
          "output_type": "stream",
          "name": "stdout",
          "text": [
            "Model: \"model_1\"\n",
            "_________________________________________________________________\n",
            " Layer (type)                Output Shape              Param #   \n",
            "=================================================================\n",
            " inputs (InputLayer)         [(None, 1000)]            0         \n",
            "                                                                 \n",
            " embedding_1 (Embedding)     (None, 1000, 100)         1000000   \n",
            "                                                                 \n",
            " lstm (LSTM)                 (None, 64)                42240     \n",
            "                                                                 \n",
            " FC1 (Dense)                 (None, 256)               16640     \n",
            "                                                                 \n",
            " activation (Activation)     (None, 256)               0         \n",
            "                                                                 \n",
            " dropout_1 (Dropout)         (None, 256)               0         \n",
            "                                                                 \n",
            " out_layer (Dense)           (None, 2)                 514       \n",
            "                                                                 \n",
            " activation_1 (Activation)   (None, 2)                 0         \n",
            "                                                                 \n",
            "=================================================================\n",
            "Total params: 1059394 (4.04 MB)\n",
            "Trainable params: 1059394 (4.04 MB)\n",
            "Non-trainable params: 0 (0.00 Byte)\n",
            "_________________________________________________________________\n"
          ]
        }
      ],
      "source": [
        "from keras.optimizers import RMSprop\n",
        "\n",
        "model_lstm = RNN()\n",
        "model_lstm.summary()\n",
        "with tf.device('/device:GPU:0'):\n",
        "  model_lstm.compile(loss='binary_crossentropy',optimizer=RMSprop(),metrics=['accuracy'])"
      ]
    },
    {
      "cell_type": "code",
      "execution_count": null,
      "metadata": {
        "colab": {
          "base_uri": "https://localhost:8080/"
        },
        "id": "3FJfnUdLqfR1",
        "outputId": "627175d7-8e56-4802-c4c2-6041335d5f53"
      },
      "outputs": [
        {
          "output_type": "stream",
          "name": "stdout",
          "text": [
            "Epoch 1/5\n",
            "20/20 [==============================] - 6s 166ms/step - loss: 0.6875 - accuracy: 0.5349 - val_loss: 0.6710 - val_accuracy: 0.5462\n",
            "Epoch 2/5\n",
            "20/20 [==============================] - 4s 188ms/step - loss: 0.5286 - accuracy: 0.8053 - val_loss: 0.3068 - val_accuracy: 0.9030\n",
            "Epoch 3/5\n",
            "20/20 [==============================] - 3s 132ms/step - loss: 0.2074 - accuracy: 0.9385 - val_loss: 0.0920 - val_accuracy: 0.9734\n",
            "Epoch 4/5\n",
            "20/20 [==============================] - 3s 144ms/step - loss: 0.0665 - accuracy: 0.9843 - val_loss: 0.0521 - val_accuracy: 0.9812\n",
            "Epoch 5/5\n",
            "20/20 [==============================] - 3s 135ms/step - loss: 0.0213 - accuracy: 0.9953 - val_loss: 0.0885 - val_accuracy: 0.9656\n"
          ]
        }
      ],
      "source": [
        "from keras.callbacks import EarlyStopping\n",
        "\n",
        "history_lstm = model_lstm.fit(x_train,y_train,batch_size=128,epochs=5, validation_split=0.2)"
      ]
    },
    {
      "cell_type": "code",
      "execution_count": null,
      "metadata": {
        "colab": {
          "base_uri": "https://localhost:8080/"
        },
        "id": "yfcQrFGgqfR2",
        "outputId": "2bda2a35-8d1f-4797-98a3-500fc3086b29"
      },
      "outputs": [
        {
          "output_type": "stream",
          "name": "stdout",
          "text": [
            "100/100 [==============================] - 3s 24ms/step\n"
          ]
        },
        {
          "output_type": "execute_result",
          "data": {
            "text/plain": [
              "array([[0.06546277, 0.98840034],\n",
              "       [0.2679499 , 0.9404466 ],\n",
              "       [0.99866927, 0.00810801],\n",
              "       ...,\n",
              "       [0.99931884, 0.01462547],\n",
              "       [0.13716549, 0.9909733 ],\n",
              "       [0.04990777, 0.99906534]], dtype=float32)"
            ]
          },
          "metadata": {},
          "execution_count": 47
        }
      ],
      "source": [
        "model.predict(x_train)"
      ]
    },
    {
      "cell_type": "code",
      "execution_count": null,
      "metadata": {
        "colab": {
          "base_uri": "https://localhost:8080/"
        },
        "id": "X-qYdw71qfR2",
        "outputId": "0d19ea9b-4309-4735-9bf2-39b39263be2c"
      },
      "outputs": [
        {
          "output_type": "execute_result",
          "data": {
            "text/plain": [
              "(3191, 1000)"
            ]
          },
          "metadata": {},
          "execution_count": 48
        }
      ],
      "source": [
        "x_train.shape"
      ]
    },
    {
      "cell_type": "code",
      "source": [
        "model_lstm.predict(x_train)"
      ],
      "metadata": {
        "colab": {
          "base_uri": "https://localhost:8080/"
        },
        "id": "Gj82iclYyywB",
        "outputId": "52868ec5-c89e-4fb8-920e-2c541b314d50"
      },
      "execution_count": null,
      "outputs": [
        {
          "output_type": "stream",
          "name": "stdout",
          "text": [
            "100/100 [==============================] - 2s 13ms/step\n"
          ]
        },
        {
          "output_type": "execute_result",
          "data": {
            "text/plain": [
              "array([[0.037187  , 0.96311206],\n",
              "       [0.04420813, 0.95543766],\n",
              "       [0.99692684, 0.00392391],\n",
              "       ...,\n",
              "       [0.9989485 , 0.00141638],\n",
              "       [0.01410934, 0.98572797],\n",
              "       [0.00285375, 0.9972224 ]], dtype=float32)"
            ]
          },
          "metadata": {},
          "execution_count": 49
        }
      ]
    },
    {
      "cell_type": "code",
      "source": [
        "model.predict(x_val)"
      ],
      "metadata": {
        "colab": {
          "base_uri": "https://localhost:8080/"
        },
        "id": "4iKP8I9vz2xB",
        "outputId": "e127ce37-ca1e-4818-c135-3ea428348c59"
      },
      "execution_count": null,
      "outputs": [
        {
          "output_type": "stream",
          "name": "stdout",
          "text": [
            "25/25 [==============================] - 1s 37ms/step\n"
          ]
        },
        {
          "output_type": "execute_result",
          "data": {
            "text/plain": [
              "array([[0.14396492, 0.9947108 ],\n",
              "       [0.07064423, 0.9975752 ],\n",
              "       [0.1317237 , 0.99715793],\n",
              "       ...,\n",
              "       [0.99928445, 0.05695196],\n",
              "       [0.99222493, 0.08140639],\n",
              "       [0.99755776, 0.15784341]], dtype=float32)"
            ]
          },
          "metadata": {},
          "execution_count": 51
        }
      ]
    },
    {
      "cell_type": "code",
      "source": [
        "plt.plot(history_lstm.history['accuracy'])\n",
        "plt.plot(history_lstm.history['val_accuracy'])\n",
        "plt.title('Accuracy Curve')\n",
        "plt.ylabel('Accuracy')\n",
        "plt.xlabel('Epochs')\n",
        "plt.legend(['train', 'validation'], loc='lower right')\n",
        "plt.show()"
      ],
      "metadata": {
        "colab": {
          "base_uri": "https://localhost:8080/",
          "height": 472
        },
        "id": "QpiYAXVENtEZ",
        "outputId": "e9bc0e06-a9c2-4a54-f4ef-56a110cfe925"
      },
      "execution_count": null,
      "outputs": [
        {
          "output_type": "display_data",
          "data": {
            "text/plain": [
              "<Figure size 640x480 with 1 Axes>"
            ],
            "image/png": "[encoded data removed]"
          },
          "metadata": {}
        }
      ]
    },
    {
      "cell_type": "code",
      "source": [
        "plt.plot(history_lstm.history['loss'])\n",
        "plt.plot(history_lstm.history['val_loss'])\n",
        "plt.title('Loss Curve')\n",
        "plt.ylabel('Loss')\n",
        "plt.xlabel('Epochs')\n",
        "plt.legend(['train', 'validation'], loc='lower right')\n",
        "plt.show()"
      ],
      "metadata": {
        "colab": {
          "base_uri": "https://localhost:8080/",
          "height": 472
        },
        "id": "9JW2u8PZOK3O",
        "outputId": "6d0864ac-8d7d-4c5e-fcfd-7be0a98fee02"
      },
      "execution_count": null,
      "outputs": [
        {
          "output_type": "display_data",
          "data": {
            "text/plain": [
              "<Figure size 640x480 with 1 Axes>"
            ],
            "image/png": "[encoded data removed]"
          },
          "metadata": {}
        }
      ]
    },
    {
      "cell_type": "code",
      "source": [
        "x_val.shape"
      ],
      "metadata": {
        "colab": {
          "base_uri": "https://localhost:8080/"
        },
        "id": "Was-4jbl0q9V",
        "outputId": "956e635d-ef8e-481c-9178-f7a8a0b9f180"
      },
      "execution_count": null,
      "outputs": [
        {
          "output_type": "execute_result",
          "data": {
            "text/plain": [
              "(797, 1000)"
            ]
          },
          "metadata": {},
          "execution_count": 52
        }
      ]
    },
    {
      "cell_type": "code",
      "source": [
        "x_train[:1].shape"
      ],
      "metadata": {
        "colab": {
          "base_uri": "https://localhost:8080/"
        },
        "id": "nv7AoI-O00A5",
        "outputId": "d1d41412-e216-4d26-b1bb-bfca598324d1"
      },
      "execution_count": null,
      "outputs": [
        {
          "output_type": "execute_result",
          "data": {
            "text/plain": [
              "(1, 1000)"
            ]
          },
          "metadata": {},
          "execution_count": 53
        }
      ]
    },
    {
      "cell_type": "code",
      "source": [
        "model.predict(x_val[:1])"
      ],
      "metadata": {
        "colab": {
          "base_uri": "https://localhost:8080/"
        },
        "id": "GIDU4NVM1AOa",
        "outputId": "3aec4d9f-b419-4f52-9b42-aeb9f3108b7c"
      },
      "execution_count": null,
      "outputs": [
        {
          "output_type": "stream",
          "name": "stdout",
          "text": [
            "1/1 [==============================] - 0s 61ms/step\n"
          ]
        },
        {
          "output_type": "execute_result",
          "data": {
            "text/plain": [
              "array([[0.14396481, 0.9947108 ]], dtype=float32)"
            ]
          },
          "metadata": {},
          "execution_count": 54
        }
      ]
    },
    {
      "cell_type": "code",
      "source": [
        "x_train"
      ],
      "metadata": {
        "colab": {
          "base_uri": "https://localhost:8080/"
        },
        "id": "bzbWSPBH16Qj",
        "outputId": "7ece7226-50f6-478e-bdc2-410f5f953534"
      },
      "execution_count": null,
      "outputs": [
        {
          "output_type": "execute_result",
          "data": {
            "text/plain": [
              "array([[   0,    0,    0, ...,   24, 1728, 1395],\n",
              "       [   0,    0,    0, ...,  119,   87,  410],\n",
              "       [   0,    0,    0, ..., 1579,  526, 5224],\n",
              "       ...,\n",
              "       [   0,    0,    0, ..., 2259,   15,   65],\n",
              "       [   0,    0,    0, ..., 2193,  129,   46],\n",
              "       [   0,    0,    0, ..., 1080,  811, 4143]], dtype=int32)"
            ]
          },
          "metadata": {},
          "execution_count": 55
        }
      ]
    },
    {
      "cell_type": "code",
      "source": [
        "a = np.array([[1]])"
      ],
      "metadata": {
        "id": "c-5GXb-r2Kwc"
      },
      "execution_count": null,
      "outputs": []
    },
    {
      "cell_type": "code",
      "source": [
        "a"
      ],
      "metadata": {
        "colab": {
          "base_uri": "https://localhost:8080/"
        },
        "id": "D1gJNdjx2PGV",
        "outputId": "fed5fdb8-5458-4a37-ad5c-00f328397649"
      },
      "execution_count": null,
      "outputs": [
        {
          "output_type": "execute_result",
          "data": {
            "text/plain": [
              "array([[1]])"
            ]
          },
          "metadata": {},
          "execution_count": 57
        }
      ]
    },
    {
      "cell_type": "code",
      "source": [
        "!pip install h5py"
      ],
      "metadata": {
        "colab": {
          "base_uri": "https://localhost:8080/"
        },
        "id": "uJT8RXQg2P0N",
        "outputId": "51078374-c4b0-43f0-9e5b-30c1b44712b5"
      },
      "execution_count": null,
      "outputs": [
        {
          "output_type": "stream",
          "name": "stdout",
          "text": [
            "Requirement already satisfied: h5py in /usr/local/lib/python3.10/dist-packages (3.9.0)\n",
            "Requirement already satisfied: numpy>=1.17.3 in /usr/local/lib/python3.10/dist-packages (from h5py) (1.23.5)\n"
          ]
        }
      ]
    },
    {
      "cell_type": "code",
      "source": [
        "model_json = model.to_json()\n",
        "with open(\"model.json\", \"w\") as json_file:\n",
        "    json_file.write(model_json)\n",
        "# serialize weights to HDF5\n",
        "model.save_weights(\"model_cnn.h5\")\n",
        "print(\"Saved model to disk\")"
      ],
      "metadata": {
        "colab": {
          "base_uri": "https://localhost:8080/"
        },
        "id": "lNqIg3oN3N4J",
        "outputId": "7a832e0b-16fb-496b-c699-eca16e3a4c7f"
      },
      "execution_count": null,
      "outputs": [
        {
          "output_type": "stream",
          "name": "stdout",
          "text": [
            "Saved model to disk\n"
          ]
        }
      ]
    },
    {
      "cell_type": "code",
      "source": [
        "model_lstm_json = model_lstm.to_json()\n",
        "with open(\"model_lstm_json.json\", \"w\") as json_file:\n",
        "    json_file.write(model_lstm_json)\n",
        "# serialize weights to HDF5\n",
        "model.save_weights(\"model_lstm.h5\")\n",
        "print(\"Saved model to disk\")"
      ],
      "metadata": {
        "colab": {
          "base_uri": "https://localhost:8080/"
        },
        "id": "8EYaOytB32Zp",
        "outputId": "e414fd72-df61-4a26-adfc-9744d2f26701"
      },
      "execution_count": null,
      "outputs": [
        {
          "output_type": "stream",
          "name": "stdout",
          "text": [
            "Saved model to disk\n"
          ]
        }
      ]
    },
    {
      "cell_type": "code",
      "source": [],
      "metadata": {
        "id": "SlrYM66YKoqL"
      },
      "execution_count": null,
      "outputs": []
    }
  ],
  "metadata": {
    "kernelspec": {
      "display_name": "Python 3",
      "name": "python3"
    },
    "language_info": {
      "codemirror_mode": {
        "name": "ipython",
        "version": 3
      },
      "file_extension": ".py",
      "mimetype": "text/x-python",
      "name": "python",
      "nbconvert_exporter": "python",
      "pygments_lexer": "ipython3",
      "version": "3.10.4"
    },
    "colab": {
      "provenance": [],
      "gpuType": "T4"
    },
    "accelerator": "GPU"
  },
  "nbformat": 4,
  "nbformat_minor": 0
}